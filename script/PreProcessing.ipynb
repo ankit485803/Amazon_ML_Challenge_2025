{
 "cells": [
  {
   "cell_type": "code",
   "execution_count": 1,
   "id": "36b1f31a-37a6-433b-8ff8-9d3d7e72f07e",
   "metadata": {},
   "outputs": [
    {
     "name": "stdout",
     "output_type": "stream",
     "text": [
      "   sample_id                                    catalog_content  \\\n",
      "0      33127  Item Name: La Victoria Green Taco Sauce Mild, ...   \n",
      "1     198967  Item Name: Salerno Cookies, The Original Butte...   \n",
      "2     261251  Item Name: Bear Creek Hearty Soup Bowl, Creamy...   \n",
      "3      55858  Item Name: Judee’s Blue Cheese Powder 11.25 oz...   \n",
      "4     292686  Item Name: kedem Sherry Cooking Wine, 12.7 Oun...   \n",
      "\n",
      "                                          image_link  price  \n",
      "0  https://m.media-amazon.com/images/I/51mo8htwTH...   4.89  \n",
      "1  https://m.media-amazon.com/images/I/71YtriIHAA...  13.12  \n",
      "2  https://m.media-amazon.com/images/I/51+PFEe-w-...   1.97  \n",
      "3  https://m.media-amazon.com/images/I/41mu0HAToD...  30.34  \n",
      "4  https://m.media-amazon.com/images/I/41sA037+Qv...  66.49  \n",
      "<class 'pandas.core.frame.DataFrame'>\n",
      "RangeIndex: 75000 entries, 0 to 74999\n",
      "Data columns (total 4 columns):\n",
      " #   Column           Non-Null Count  Dtype  \n",
      "---  ------           --------------  -----  \n",
      " 0   sample_id        75000 non-null  int64  \n",
      " 1   catalog_content  75000 non-null  object \n",
      " 2   image_link       75000 non-null  object \n",
      " 3   price            75000 non-null  float64\n",
      "dtypes: float64(1), int64(1), object(2)\n",
      "memory usage: 2.3+ MB\n",
      "None\n",
      "           sample_id         price\n",
      "count   75000.000000  75000.000000\n",
      "mean   149841.917707     23.647654\n",
      "std     86585.346513     33.376932\n",
      "min         0.000000      0.130000\n",
      "25%     73845.750000      6.795000\n",
      "50%    150129.000000     14.000000\n",
      "75%    225040.250000     28.625000\n",
      "max    299438.000000   2796.000000\n"
     ]
    }
   ],
   "source": [
    "import pandas as pd\n",
    "\n",
    "# Load the dataset\n",
    "file_path = 'C:/Users/sanja/Desktop/Amazon/data/train.csv'  # Adjust path accordingly\n",
    "df = pd.read_csv(file_path)\n",
    "\n",
    "# Initial inspection\n",
    "print(df.head())\n",
    "print(df.info())\n",
    "print(df.describe())\n"
   ]
  },
  {
   "cell_type": "code",
   "execution_count": 2,
   "id": "0865552b-e99f-47de-9ea6-6dd03bfe69c6",
   "metadata": {},
   "outputs": [
    {
     "name": "stdout",
     "output_type": "stream",
     "text": [
      "Total null values per column:\n",
      "sample_id          0\n",
      "catalog_content    0\n",
      "image_link         0\n",
      "price              0\n",
      "dtype: int64\n",
      "\n",
      "Number of rows with any null values: 0\n"
     ]
    }
   ],
   "source": [
    "## Handling MISSING and NULL values\n",
    "\n",
    "# Check for null values in the dataset\n",
    "null_values = df.isnull().sum()\n",
    "\n",
    "# Print total null values for each column\n",
    "print(\"Total null values per column:\")\n",
    "print(null_values)\n",
    "\n",
    "# Optionally, we can also check for rows that contain any null values\n",
    "null_rows = df[df.isnull().any(axis=1)]\n",
    "print(f\"\\nNumber of rows with any null values: {null_rows.shape[0]}\")\n"
   ]
  },
  {
   "cell_type": "code",
   "execution_count": 3,
   "id": "a353ae80-587f-40ad-83c8-9010477dfce8",
   "metadata": {},
   "outputs": [
    {
     "name": "stdout",
     "output_type": "stream",
     "text": [
      "   sample_id                                    catalog_content  \\\n",
      "0     100179  Item Name: Rani 14-Spice Eshamaya's Mango Chut...   \n",
      "1     245611  Item Name: Natural MILK TEA Flavoring extract ...   \n",
      "2     146263  Item Name: Honey Filled Hard Candy - Bulk Pack...   \n",
      "3      95658  Item Name: Vlasic Snack'mm's Kosher Dill 16 Oz...   \n",
      "4      36806  Item Name: McCormick Culinary Vanilla Extract,...   \n",
      "\n",
      "                                          image_link  \n",
      "0  https://m.media-amazon.com/images/I/71hoAn78AW...  \n",
      "1  https://m.media-amazon.com/images/I/61ex8NHCIj...  \n",
      "2  https://m.media-amazon.com/images/I/61KCM61J8e...  \n",
      "3  https://m.media-amazon.com/images/I/51Ex6uOH7y...  \n",
      "4  https://m.media-amazon.com/images/I/71QYlrOMoS...  \n",
      "<class 'pandas.core.frame.DataFrame'>\n",
      "RangeIndex: 75000 entries, 0 to 74999\n",
      "Data columns (total 3 columns):\n",
      " #   Column           Non-Null Count  Dtype \n",
      "---  ------           --------------  ----- \n",
      " 0   sample_id        75000 non-null  int64 \n",
      " 1   catalog_content  75000 non-null  object\n",
      " 2   image_link       75000 non-null  object\n",
      "dtypes: int64(1), object(2)\n",
      "memory usage: 1.7+ MB\n",
      "None\n",
      "           sample_id\n",
      "count   75000.000000\n",
      "mean   149387.988880\n",
      "std     86763.376732\n",
      "min         1.000000\n",
      "25%     73760.500000\n",
      "50%    149109.500000\n",
      "75%    224529.750000\n",
      "max    299439.000000\n"
     ]
    }
   ],
   "source": [
    "\n",
    "# Load the TEST data\n",
    "file_path = 'C:/Users/sanja/Desktop/Amazon/data/test.csv'  # Adjust path accordingly\n",
    "df_test = pd.read_csv(file_path)\n",
    "\n",
    "# Initial inspection\n",
    "print(df_test.head())\n",
    "print(df_test.info())\n",
    "print(df_test.describe())"
   ]
  },
  {
   "cell_type": "code",
   "execution_count": 4,
   "id": "0597195c-2a5d-4a57-b528-310a239cafb8",
   "metadata": {},
   "outputs": [
    {
     "name": "stdout",
     "output_type": "stream",
     "text": [
      "Total null values per column:\n",
      "sample_id          0\n",
      "catalog_content    0\n",
      "image_link         0\n",
      "dtype: int64\n"
     ]
    }
   ],
   "source": [
    "# Check for null values in the TEST data\n",
    "null_values = df_test.isnull().sum()\n",
    "\n",
    "# Print total null values for each column\n",
    "print(\"Total null values per column:\")\n",
    "print(null_values)"
   ]
  },
  {
   "cell_type": "code",
   "execution_count": null,
   "id": "fea35528-7a29-4c55-bcec-d17b6ac220ee",
   "metadata": {},
   "outputs": [],
   "source": []
  },
  {
   "cell_type": "code",
   "execution_count": null,
   "id": "00e9cff0-151a-42f2-971c-7901f8218d04",
   "metadata": {},
   "outputs": [],
   "source": []
  },
  {
   "cell_type": "code",
   "execution_count": null,
   "id": "1bfad1bc-a35c-467b-8c02-14630ce15042",
   "metadata": {},
   "outputs": [],
   "source": []
  },
  {
   "cell_type": "code",
   "execution_count": 4,
   "id": "ab05bf72-c1c5-4936-a784-ae8213d47854",
   "metadata": {},
   "outputs": [
    {
     "name": "stdout",
     "output_type": "stream",
     "text": [
      "Calculated mean price from training data: 23.65\n",
      "Generated predictions with random prices and saved to test_out3.csv\n"
     ]
    }
   ],
   "source": [
    "import pandas as pd\n",
    "import numpy as np\n",
    "\n",
    "# Load the training data (train.csv) and test data (test.csv)\n",
    "train_df = pd.read_csv(\"C:/Users/sanja/Desktop/Amazon/data/train.csv\")\n",
    "test_df = pd.read_csv(\"C:/Users/sanja/Desktop/Amazon/data/test.csv\")\n",
    "\n",
    "# Calculate the mean price from the training data\n",
    "mean_price = train_df['price'].mean()\n",
    "print(f\"Calculated mean price from training data: {mean_price:.2f}\")\n",
    "\n",
    "# Define a percentage range for randomness (e.g., ±10% of the mean price)\n",
    "random_variation_percentage = 0.10  # 10% variation around the mean price\n",
    "\n",
    "# Generate random prices within the specified range (mean ± 10%)\n",
    "min_price = mean_price * (1 - random_variation_percentage)\n",
    "max_price = mean_price * (1 + random_variation_percentage)\n",
    "\n",
    "# Use numpy to generate random prices for each test sample\n",
    "random_prices = np.random.uniform(min_price, max_price, size=len(test_df))\n",
    "\n",
    "# Create the output dataframe with sample_id from test data and the random prices\n",
    "output_df = test_df[['sample_id']].copy()\n",
    "output_df['price'] = random_prices  # Assign the generated random prices\n",
    "\n",
    "# Save the predictions to a CSV file (test_out.csv)\n",
    "output_df.to_csv('test_out3.csv', index=False)\n",
    "\n",
    "print(\"Generated predictions with random prices and saved to test_out3.csv\")\n"
   ]
  },
  {
   "cell_type": "code",
   "execution_count": null,
   "id": "bf609ce1-45bc-4527-9f90-896740e1c1e5",
   "metadata": {},
   "outputs": [],
   "source": []
  },
  {
   "cell_type": "code",
   "execution_count": null,
   "id": "a1896e4f-1a5e-4caa-8d3f-6374f1f2962c",
   "metadata": {},
   "outputs": [],
   "source": []
  }
 ],
 "metadata": {
  "kernelspec": {
   "display_name": "Python 3 (ipykernel)",
   "language": "python",
   "name": "python3"
  },
  "language_info": {
   "codemirror_mode": {
    "name": "ipython",
    "version": 3
   },
   "file_extension": ".py",
   "mimetype": "text/x-python",
   "name": "python",
   "nbconvert_exporter": "python",
   "pygments_lexer": "ipython3",
   "version": "3.11.5"
  }
 },
 "nbformat": 4,
 "nbformat_minor": 5
}
