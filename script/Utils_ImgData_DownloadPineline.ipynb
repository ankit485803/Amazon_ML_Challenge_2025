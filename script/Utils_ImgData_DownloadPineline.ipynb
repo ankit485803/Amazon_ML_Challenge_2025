{
 "cells": [
  {
   "cell_type": "code",
   "execution_count": null,
   "id": "55d94231-fcdc-49ee-9579-772834dd0d14",
   "metadata": {},
   "outputs": [],
   "source": []
  },
  {
   "cell_type": "code",
   "execution_count": null,
   "id": "65650d40-8859-4ba1-a423-39109285365f",
   "metadata": {},
   "outputs": [
    {
     "name": "stdout",
     "output_type": "stream",
     "text": [
      "Total images to download: 75000\n"
     ]
    },
    {
     "name": "stderr",
     "output_type": "stream",
     "text": [
      "  0%|                                                                                        | 0/75000 [00:00<?, ?it/s]"
     ]
    }
   ],
   "source": [
    "import os\n",
    "import pandas as pd\n",
    "import urllib\n",
    "from functools import partial\n",
    "import multiprocessing\n",
    "from tqdm import tqdm\n",
    "from pathlib import Path\n",
    "from time import time\n",
    "\n",
    "# Ensure this path points to where you want to save the images\n",
    "savefolder = r'C:/Users/sanja/Desktop/Amazon/cleanData/img'\n",
    "\n",
    "# Load the dataset containing image links\n",
    "df = pd.read_csv('C:/Users/sanja/Desktop/Amazon/data/train.csv')  # Adjust the path to your CSV file\n",
    "image_links = df['image_link'].tolist()  # Get the list of image URLs\n",
    "\n",
    "# Function to download each image\n",
    "def download_image(image_link, savefolder, success_counter):\n",
    "    if isinstance(image_link, str):\n",
    "        filename = Path(image_link).name\n",
    "        image_save_path = os.path.join(savefolder, filename)\n",
    "        if not os.path.exists(image_save_path):\n",
    "            try:\n",
    "                urllib.request.urlretrieve(image_link, image_save_path)  \n",
    "                success_counter[0] += 1  # Increment the counter for successful downloads\n",
    "            except Exception as ex:\n",
    "                print(f'Warning: Not able to download - {image_link}\\n{ex}')\n",
    "        else:\n",
    "            success_counter[0] += 1  # Increment counter if image already exists\n",
    "    return\n",
    "\n",
    "# Function to download all images with progress tracking\n",
    "def download_images(image_links, download_folder):\n",
    "    total_images = len(image_links)\n",
    "    print(f\"Total images to download: {total_images}\")\n",
    "\n",
    "    if not os.path.exists(download_folder):\n",
    "        os.makedirs(download_folder)\n",
    "\n",
    "    # Initialize a success counter (used to track how many images have been successfully downloaded)\n",
    "    success_counter = [0]\n",
    "\n",
    "    # Use partial function to pass the success_counter along with the download_image function\n",
    "    download_image_partial = partial(download_image, savefolder=download_folder, success_counter=success_counter)\n",
    "    \n",
    "    start_time = time()  # Start the timer to track total time\n",
    "    \n",
    "    with multiprocessing.Pool(20) as pool:\n",
    "        for _ in tqdm(pool.imap(download_image_partial, image_links), total=total_images):\n",
    "            pass  # No need to store results, just download images\n",
    "    \n",
    "    end_time = time()  # End the timer after downloading\n",
    "    \n",
    "    # Calculate and print download progress\n",
    "    downloaded_images = success_counter[0]\n",
    "    download_percentage = (downloaded_images / total_images) * 100\n",
    "    print(f\"\\nDownloaded {downloaded_images} out of {total_images} images.\")\n",
    "    print(f\"Download progress: {download_percentage:.2f}%\")\n",
    "    \n",
    "    # Calculate and print the total time taken to download the images\n",
    "    total_time = end_time - start_time\n",
    "    print(f\"Total time to download images: {total_time:.2f} seconds\")\n",
    "\n",
    "# Start downloading the images\n",
    "download_images(image_links, savefolder)\n"
   ]
  },
  {
   "cell_type": "code",
   "execution_count": null,
   "id": "f447b2d2-cbbe-4c18-a3f7-639460e42628",
   "metadata": {},
   "outputs": [],
   "source": []
  }
 ],
 "metadata": {
  "kernelspec": {
   "display_name": "Python 3 (ipykernel)",
   "language": "python",
   "name": "python3"
  },
  "language_info": {
   "codemirror_mode": {
    "name": "ipython",
    "version": 3
   },
   "file_extension": ".py",
   "mimetype": "text/x-python",
   "name": "python",
   "nbconvert_exporter": "python",
   "pygments_lexer": "ipython3",
   "version": "3.11.5"
  }
 },
 "nbformat": 4,
 "nbformat_minor": 5
}
