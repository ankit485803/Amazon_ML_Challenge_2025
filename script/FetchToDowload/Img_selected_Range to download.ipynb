{
 "cells": [
  {
   "cell_type": "code",
   "execution_count": null,
   "id": "72c1b642-4c61-4b3a-8170-fd048dfd6557",
   "metadata": {},
   "outputs": [],
   "source": [
    "import os\n",
    "import pandas as pd\n",
    "import requests\n",
    "from tqdm import tqdm\n",
    "from pathlib import Path\n",
    "\n",
    "# ---- CONFIG ----\n",
    "csv_path = r\"D:/ML Amazon Project/train.csv\"  # Path to your CSV file\n",
    "save_folder = r\"D:/ML Amazon Project/Img_20000\"  # Folder to save images\n",
    "num_images = 10000  # Number of images to download (next 10,000 images)\n",
    "start_index = 10000  # Start index for the next batch of images\n",
    "# ----------------\n",
    "\n",
    "# Load dataset\n",
    "df = pd.read_csv(csv_path)\n",
    "image_links = df['image_link'].dropna().tolist()\n",
    "\n",
    "# Select the next 10,000 images (from 10,001 to 20,000)\n",
    "image_links_batch = image_links[start_index:start_index + num_images]\n",
    "\n",
    "# Create folder if not exists\n",
    "os.makedirs(save_folder, exist_ok=True)\n",
    "\n",
    "# Function to download and save with sequential filename\n",
    "def download_image(url, folder, index):\n",
    "    filename = f\"{index + 1}.jpg\"  # sequential name: 1.jpg, 2.jpg, etc.\n",
    "    save_path = os.path.join(folder, filename)\n",
    "\n",
    "    if os.path.exists(save_path):\n",
    "        return  # Skip if already downloaded\n",
    "\n",
    "    try:\n",
    "        response = requests.get(url, timeout=10)\n",
    "        if response.status_code == 200:\n",
    "            with open(save_path, 'wb') as f:\n",
    "                f.write(response.content)\n",
    "        else:\n",
    "            print(f\"⚠️ Skipped ({response.status_code}): {url}\")\n",
    "    except Exception as e:\n",
    "        print(f\"❌ Error downloading {url}: {e}\")\n",
    "\n",
    "# Download with progress bar\n",
    "print(f\"📦 Downloading images from {start_index + 1} to {start_index + num_images}\")\n",
    "for i, link in enumerate(tqdm(image_links_batch, desc=\"Downloading\")):\n",
    "    download_image(link, save_folder, i + start_index)\n",
    "\n",
    "print(\"✅ Download complete!\")\n"
   ]
  }
 ],
 "metadata": {
  "kernelspec": {
   "display_name": "Python 3 (ipykernel)",
   "language": "python",
   "name": "python3"
  },
  "language_info": {
   "codemirror_mode": {
    "name": "ipython",
    "version": 3
   },
   "file_extension": ".py",
   "mimetype": "text/x-python",
   "name": "python",
   "nbconvert_exporter": "python",
   "pygments_lexer": "ipython3",
   "version": "3.9.13"
  }
 },
 "nbformat": 4,
 "nbformat_minor": 5
}
